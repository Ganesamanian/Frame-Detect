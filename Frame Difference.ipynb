{
 "cells": [
  {
   "cell_type": "code",
   "execution_count": 1,
   "id": "251d8759",
   "metadata": {},
   "outputs": [],
   "source": [
    "import cv2\n",
    "import os\n",
    "import time\n",
    "import numpy as np"
   ]
  },
  {
   "cell_type": "code",
   "execution_count": 2,
   "id": "67f68c0d",
   "metadata": {},
   "outputs": [],
   "source": [
    "def frame_difference(input_folder, output_folder, threshold=30):\n",
    "    captured_frames = []\n",
    "\n",
    "    # Create the output folder if it doesn't exist\n",
    "    if not os.path.exists(output_folder):\n",
    "        os.makedirs(output_folder)\n",
    "\n",
    "    # Get a list of all image files in the input folder\n",
    "    image_files = [f for f in os.listdir(input_folder) if f.endswith('.bmp')]\n",
    "    image_files.sort()  # Sort the files to ensure sequential processing\n",
    "\n",
    "    if len(image_files) < 2:\n",
    "        print(\"Not enough images for frame difference.\")\n",
    "        return\n",
    "    \n",
    "    \n",
    "    previous_frame = cv2.imread(os.path.join(input_folder, image_files[0]), cv2.IMREAD_GRAYSCALE)\n",
    "\n",
    "    for i in range(1, len(image_files)):\n",
    "        current_frame = cv2.imread(os.path.join(input_folder, image_files[i]), cv2.IMREAD_GRAYSCALE)\n",
    "        \n",
    "        # Check if the current_frame is loaded successfully\n",
    "        if current_frame is None:\n",
    "            print(f\"Failed to load image: {image_files[i]}\")\n",
    "            continue\n",
    "        \n",
    "        if current_frame.shape == previous_frame.shape:\n",
    "\n",
    "            # Compute the absolute difference between the current and previous frames\n",
    "            frame_diff = cv2.absdiff(current_frame, previous_frame)\n",
    "            frame_diff = cv2.GaussianBlur(frame_diff, (5, 5), 0)  # Apply Gaussian blur for noise reduction\n",
    "            _, frame_diff = cv2.threshold(frame_diff, 10, 255, cv2.THRESH_BINARY)  # Apply binary threshold\n",
    "            frame_diff_count = cv2.countNonZero(frame_diff)\n",
    "\n",
    "            # Check if the difference count is above the threshold\n",
    "            if frame_diff_count > threshold:\n",
    "                # Extract the original image name without extension\n",
    "                image_name = os.path.splitext(image_files[i])[0]\n",
    "\n",
    "                # Save the different frame with the original image name\n",
    "                output_file = os.path.join(output_folder, f'{image_name}.bmp')\n",
    "                cv2.imwrite(output_file, current_frame)\n",
    "\n",
    "                # Store the captured frame\n",
    "                captured_frames.append(image_files[i])\n",
    "\n",
    "        previous_frame = current_frame\n",
    "\n",
    "    print(\"Frame difference completed for\",len(image_files), \"images.\")\n",
    "    return captured_frames\n"
   ]
  },
  {
   "cell_type": "code",
   "execution_count": 3,
   "id": "25c24db1",
   "metadata": {},
   "outputs": [
    {
     "name": "stdout",
     "output_type": "stream",
     "text": [
      "Frame difference completed for 25246 images.\n",
      "Captured 1948 images.\n",
      "Took 127.92733478546143 seconds ---\n"
     ]
    }
   ],
   "source": [
    "if __name__ == \"__main__\":\n",
    "    start_time = time.time()\n",
    "\n",
    "    input_folder = r\"C:\\Users\\kgane\\Documents\\Advosense Work\\Image Analysis\\A208_2023-07-14\"\n",
    "    output_folder = r\"C:\\Users\\kgane\\Documents\\Advosense Work\\Image Analysis\\A208_2023-07-14_frame_separated\"\n",
    "    threshold = 90  # You can adjust this threshold as needed\n",
    "\n",
    "    captured_images = frame_difference(input_folder, output_folder, threshold)\n",
    "    print(f\"Captured {len(captured_images)} images.\")\n",
    "    print(\"Took %s seconds ---\" % (time.time() - start_time))"
   ]
  }
 ],
 "metadata": {
  "kernelspec": {
   "display_name": "Python 3 (ipykernel)",
   "language": "python",
   "name": "python3"
  },
  "language_info": {
   "codemirror_mode": {
    "name": "ipython",
    "version": 3
   },
   "file_extension": ".py",
   "mimetype": "text/x-python",
   "name": "python",
   "nbconvert_exporter": "python",
   "pygments_lexer": "ipython3",
   "version": "3.9.17"
  }
 },
 "nbformat": 4,
 "nbformat_minor": 5
}
